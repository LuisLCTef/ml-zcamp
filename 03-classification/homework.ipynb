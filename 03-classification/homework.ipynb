{
 "cells": [
  {
   "cell_type": "code",
   "execution_count": null,
   "id": "04f89ff0",
   "metadata": {},
   "outputs": [],
   "source": [
    "import pandas as pd\n",
    "import numpy as np\n",
    "from sklearn.model_selection import train_test_split\n",
    "from sklearn.metrics import mutual_info_score\n",
    "from sklearn.feature_extraction import DictVectorizer\n",
    "from sklearn.linear_model import LogisticRegression\n",
    "from sklearn.metrics import accuracy_score"
   ]
  },
  {
   "cell_type": "code",
   "execution_count": null,
   "id": "29b76fe3",
   "metadata": {},
   "outputs": [],
   "source": [
    "df = pd.read_csv(\"https://raw.githubusercontent.com/alexeygrigorev/datasets/master/course_lead_scoring.csv\")\n",
    "\n",
    "numerical_features = df.select_dtypes(include=\"number\").columns.tolist()\n",
    "categorical_features = df.select_dtypes(include=\"object\").columns.tolist()\n",
    "\n",
    "df[numerical_features] = df[numerical_features].fillna(0)\n",
    "df[categorical_features] = df[categorical_features].fillna(\"NA\")"
   ]
  },
  {
   "cell_type": "code",
   "execution_count": null,
   "id": "d2f2f091",
   "metadata": {},
   "outputs": [],
   "source": [
    "# Question 1\n",
    "df[\"industry\"].mode()"
   ]
  },
  {
   "cell_type": "code",
   "execution_count": null,
   "id": "e3f1e142",
   "metadata": {},
   "outputs": [],
   "source": [
    "# Question 2\n",
    "numeric_df = df.select_dtypes(include='number').drop(columns=\"converted\")\n",
    "numeric_df.corr()"
   ]
  },
  {
   "cell_type": "code",
   "execution_count": null,
   "id": "2f108194",
   "metadata": {},
   "outputs": [],
   "source": [
    "# Splitting the data\n",
    "df_full_train, df_test = train_test_split(df, test_size=0.2, random_state=42)\n",
    "df_train, df_val = train_test_split(df_full_train, test_size=0.25, random_state=42)\n",
    "\n",
    "features = categorical_features + numerical_features\n",
    "features.remove(\"converted\")\n",
    "\n",
    "# Training set\n",
    "X_train = df_train[features].reset_index(drop=True)\n",
    "y_train = df_train[\"converted\"].reset_index(drop=True)\n",
    "\n",
    "# Validation set\n",
    "X_val = df_val[features].reset_index(drop=True)\n",
    "y_val = df_val[\"converted\"].reset_index(drop=True)\n",
    "\n",
    "# Test set\n",
    "X_test = df_test[features].reset_index(drop=True)\n",
    "y_test = df_test[\"converted\"].reset_index(drop=True)"
   ]
  },
  {
   "cell_type": "code",
   "execution_count": null,
   "id": "df17e17e",
   "metadata": {},
   "outputs": [],
   "source": [
    "# Question 3\n",
    "def mutual_info_churn_score(series):\n",
    "    return mutual_info_score(series, y_train)\n",
    "\n",
    "X_train.select_dtypes(include=\"object\").apply(mutual_info_churn_score)"
   ]
  },
  {
   "cell_type": "code",
   "execution_count": null,
   "id": "38b62676",
   "metadata": {},
   "outputs": [],
   "source": [
    "# Question 4\n",
    "dv = DictVectorizer(sparse=False)\n",
    "\n",
    "X_train = dv.fit_transform(X_train.to_dict(orient=\"records\"))\n",
    "X_val = dv.transform(X_val.to_dict(orient=\"records\"))\n",
    "X_test = dv.transform(X_test.to_dict(orient=\"records\"))\n",
    "\n",
    "model = LogisticRegression(solver=\"liblinear\", C=1.0, max_iter=1_000, random_state=42)\n",
    "model.fit(X_train, y_train)\n",
    "y_pred = model.predict_proba(X_val)[:, 1]\n",
    "baseline_accuracy = accuracy_score(y_val, y_pred >= 0.5)\n",
    "print(baseline_accuracy)"
   ]
  },
  {
   "cell_type": "code",
   "execution_count": null,
   "id": "eb115297",
   "metadata": {},
   "outputs": [],
   "source": [
    "# Question 5\n",
    "accuracy_differences = {}\n",
    "\n",
    "for feature in features:\n",
    "    reduced_features = [f for f in features if f != feature]\n",
    "\n",
    "    dv_iter = DictVectorizer(sparse=False)\n",
    "    X_train_iter = dv_iter.fit_transform(df_train[reduced_features].to_dict(orient=\"records\"))\n",
    "    X_val_iter = dv_iter.transform(df_val[reduced_features].to_dict(orient=\"records\"))\n",
    "\n",
    "    model_iter = LogisticRegression(solver=\"liblinear\", C=1.0, max_iter=1000, random_state=42)\n",
    "    model_iter.fit(X_train_iter, y_train)\n",
    "\n",
    "    y_pred_iter = model_iter.predict_proba(X_val_iter)[:, 1]\n",
    "    iter_accuracy = accuracy_score(y_val, y_pred_iter >= 0.5)\n",
    "\n",
    "    accuracy_differences[feature] = abs(baseline_accuracy - iter_accuracy)\n",
    "\n",
    "    print(f\"Without {feature:<25} | Accuracy: {iter_accuracy:.4f} | Δ Accuracy: {abs(baseline_accuracy - iter_accuracy):.4f}\")\n",
    "\n",
    "# Identify least useful feature\n",
    "least_useful_feat = min(accuracy_differences, key=accuracy_differences.get)\n",
    "print(f\"\\nThe least useful feature is: '{least_useful_feat}'\")\n"
   ]
  },
  {
   "cell_type": "code",
   "execution_count": null,
   "id": "064fcb1c",
   "metadata": {},
   "outputs": [],
   "source": [
    "# Question 6\n",
    "C_values = [0.01, 0.1, 1, 10, 100]\n",
    "\n",
    "dv = DictVectorizer(sparse=False)\n",
    "X_train = df_train[features].reset_index(drop=True)\n",
    "X_val = df_val[features].reset_index(drop=True)\n",
    "X_train_encoded = dv.fit_transform(X_train.to_dict(orient=\"records\"))\n",
    "X_val_encoded = dv.transform(X_val.to_dict(orient=\"records\"))\n",
    "\n",
    "for C in C_values:\n",
    "    model = LogisticRegression(solver=\"liblinear\", C=C, max_iter=1000, random_state=42)\n",
    "    model.fit(X_train_encoded, y_train)\n",
    "\n",
    "    y_pred = model.predict_proba(X_val_encoded)[:, 1]\n",
    "    acc = accuracy_score(y_val, y_pred >= 0.5)\n",
    "\n",
    "    print(f\"{C:<10}\\t{acc:.3f}\")"
   ]
  }
 ],
 "metadata": {
  "kernelspec": {
   "display_name": "mlcamp",
   "language": "python",
   "name": "python3"
  },
  "language_info": {
   "codemirror_mode": {
    "name": "ipython",
    "version": 3
   },
   "file_extension": ".py",
   "mimetype": "text/x-python",
   "name": "python",
   "nbconvert_exporter": "python",
   "pygments_lexer": "ipython3",
   "version": "3.11.13"
  }
 },
 "nbformat": 4,
 "nbformat_minor": 5
}

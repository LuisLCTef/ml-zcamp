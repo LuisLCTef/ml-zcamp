{
 "cells": [
  {
   "cell_type": "code",
   "execution_count": 1,
   "id": "915d95b1",
   "metadata": {},
   "outputs": [],
   "source": [
    "import pandas as pd\n",
    "import matplotlib.pyplot as plt\n",
    "import seaborn as sns\n",
    "import numpy as np\n",
    "\n",
    "%matplotlib inline"
   ]
  },
  {
   "cell_type": "code",
   "execution_count": 2,
   "id": "d023ed84",
   "metadata": {},
   "outputs": [],
   "source": [
    "df = pd.read_csv(\"https://raw.githubusercontent.com/alexeygrigorev/datasets/master/car_fuel_efficiency.csv\")\n",
    "df = df[['engine_displacement','horsepower','vehicle_weight','model_year','fuel_efficiency_mpg']]"
   ]
  },
  {
   "cell_type": "code",
   "execution_count": 3,
   "id": "1be17644",
   "metadata": {},
   "outputs": [
    {
     "data": {
      "text/plain": [
       "<Axes: xlabel='fuel_efficiency_mpg', ylabel='Count'>"
      ]
     },
     "execution_count": 3,
     "metadata": {},
     "output_type": "execute_result"
    },
    {
     "data": {
      "image/png": "[encoded data removed]",
      "text/plain": [
       "<Figure size 640x480 with 1 Axes>"
      ]
     },
     "metadata": {},
     "output_type": "display_data"
    }
   ],
   "source": [
    "sns.histplot(df.fuel_efficiency_mpg, bins=50)"
   ]
  },
  {
   "cell_type": "markdown",
   "id": "fef8f304",
   "metadata": {},
   "source": [
    "## Question 1"
   ]
  },
  {
   "cell_type": "code",
   "execution_count": 4,
   "id": "a0d1bdf2",
   "metadata": {},
   "outputs": [
    {
     "data": {
      "text/plain": [
       "engine_displacement      0\n",
       "horsepower             708\n",
       "vehicle_weight           0\n",
       "model_year               0\n",
       "dtype: int64"
      ]
     },
     "execution_count": 4,
     "metadata": {},
     "output_type": "execute_result"
    }
   ],
   "source": [
    "base = ['engine_displacement','horsepower','vehicle_weight','model_year']\n",
    "df[base].isna().sum()"
   ]
  },
  {
   "cell_type": "markdown",
   "id": "e15b5d61",
   "metadata": {},
   "source": [
    "## Question 2"
   ]
  },
  {
   "cell_type": "code",
   "execution_count": 5,
   "id": "8c825e06",
   "metadata": {},
   "outputs": [
    {
     "data": {
      "text/plain": [
       "149.0"
      ]
     },
     "execution_count": 5,
     "metadata": {},
     "output_type": "execute_result"
    }
   ],
   "source": [
    "df.horsepower.median()"
   ]
  },
  {
   "cell_type": "markdown",
   "id": "d1a663af",
   "metadata": {},
   "source": [
    "## Shuffling the data"
   ]
  },
  {
   "cell_type": "code",
   "execution_count": 6,
   "id": "dc03b563",
   "metadata": {},
   "outputs": [],
   "source": [
    "n = len(df)\n",
    "idx = np.arange(n)\n",
    "n_val = int(n * 0.2)\n",
    "n_test = int(n * 0.2)\n",
    "n_train = n - n_val - n_test"
   ]
  },
  {
   "cell_type": "code",
   "execution_count": 7,
   "id": "a081fd02",
   "metadata": {},
   "outputs": [],
   "source": [
    "np.random.seed(42)\n",
    "np.random.shuffle(idx)"
   ]
  },
  {
   "cell_type": "code",
   "execution_count": 8,
   "id": "d7bde487",
   "metadata": {},
   "outputs": [],
   "source": [
    "df_train = df.iloc[idx[:n_train]]\n",
    "df_val = df.iloc[idx[n_train:n_train+n_val]]\n",
    "df_test = df.iloc[idx[n_train+n_val:]]"
   ]
  },
  {
   "cell_type": "code",
   "execution_count": 9,
   "id": "2e873aaa",
   "metadata": {},
   "outputs": [],
   "source": [
    "df_train = df_train.reset_index(drop=True)\n",
    "df_val = df_val.reset_index(drop=True)\n",
    "df_test = df_test.reset_index(drop=True)"
   ]
  },
  {
   "cell_type": "markdown",
   "id": "881a0cd0",
   "metadata": {},
   "source": [
    "## Question 3"
   ]
  },
  {
   "cell_type": "code",
   "execution_count": 10,
   "id": "68f9cc4e",
   "metadata": {},
   "outputs": [],
   "source": [
    "def train_linear_regression(X, y):\n",
    "    ones = np.ones(X.shape[0])\n",
    "    X = np.column_stack([ones, X])\n",
    "\n",
    "    XTX = X.T.dot(X)\n",
    "    XTX_inv = np.linalg.inv(XTX)\n",
    "    w_full = XTX_inv.dot(X.T).dot(y)\n",
    "    \n",
    "    return w_full[0], w_full[1:]"
   ]
  },
  {
   "cell_type": "code",
   "execution_count": 11,
   "id": "316aa86f",
   "metadata": {},
   "outputs": [],
   "source": [
    "X_train_zeroes = df_train[base].fillna(0).values\n",
    "X_train_mean = df_train[base].fillna(df_train[base].mean()).values\n",
    "\n",
    "X_val_zeroes = df_val[base].fillna(0).values\n",
    "X_val_mean = df_val[base].fillna(df_train[base].mean()).values"
   ]
  },
  {
   "cell_type": "code",
   "execution_count": 12,
   "id": "e42cb19d",
   "metadata": {},
   "outputs": [],
   "source": [
    "y_train = df_train.fuel_efficiency_mpg.values\n",
    "y_val = df_val.fuel_efficiency_mpg.values"
   ]
  },
  {
   "cell_type": "code",
   "execution_count": 13,
   "id": "a6c481d5",
   "metadata": {},
   "outputs": [],
   "source": [
    "w0_zeroes, w_zeroes = train_linear_regression(X_train_zeroes, y_train)\n",
    "w0_mean, w_mean = train_linear_regression(X_train_mean, y_train)\n",
    "\n",
    "y_pred_zeroes = w0_zeroes + X_val_zeroes.dot(w_zeroes)\n",
    "y_pred_mean = w0_mean + X_val_mean.dot(w_mean)"
   ]
  },
  {
   "cell_type": "code",
   "execution_count": 14,
   "id": "9ee0d881",
   "metadata": {},
   "outputs": [],
   "source": [
    "def rmse(y, y_pred):\n",
    "    se = (y - y_pred) ** 2\n",
    "    mse = se.mean()\n",
    "    return np.sqrt(mse)"
   ]
  },
  {
   "cell_type": "code",
   "execution_count": 15,
   "id": "2be764b2",
   "metadata": {},
   "outputs": [
    {
     "data": {
      "text/plain": [
       "np.float64(0.52)"
      ]
     },
     "execution_count": 15,
     "metadata": {},
     "output_type": "execute_result"
    }
   ],
   "source": [
    "round(rmse(y_val, y_pred_zeroes), 2)"
   ]
  },
  {
   "cell_type": "code",
   "execution_count": 16,
   "id": "09fa6920",
   "metadata": {},
   "outputs": [
    {
     "data": {
      "text/plain": [
       "np.float64(0.46)"
      ]
     },
     "execution_count": 16,
     "metadata": {},
     "output_type": "execute_result"
    }
   ],
   "source": [
    "round(rmse(y_val, y_pred_mean), 2)"
   ]
  },
  {
   "cell_type": "markdown",
   "id": "e6422a1a",
   "metadata": {},
   "source": [
    "## Question 4"
   ]
  },
  {
   "cell_type": "code",
   "execution_count": 17,
   "id": "72a252be",
   "metadata": {},
   "outputs": [],
   "source": [
    "def train_linear_regression_reg(X, y, r=0.001):\n",
    "    ones = np.ones(X.shape[0])\n",
    "    X = np.column_stack([ones, X])\n",
    "\n",
    "    XTX = X.T.dot(X)\n",
    "    XTX = XTX + r * np.eye(XTX.shape[0])\n",
    "\n",
    "    XTX_inv = np.linalg.inv(XTX)\n",
    "    w_full = XTX_inv.dot(X.T).dot(y)\n",
    "    \n",
    "    return w_full[0], w_full[1:]"
   ]
  },
  {
   "cell_type": "code",
   "execution_count": 18,
   "id": "6aa1998a",
   "metadata": {},
   "outputs": [
    {
     "name": "stdout",
     "output_type": "stream",
     "text": [
      "r=0: RMSE=0.52\n",
      "r=0.01: RMSE=0.52\n",
      "r=0.1: RMSE=0.52\n",
      "r=1: RMSE=0.52\n",
      "r=5: RMSE=0.52\n",
      "r=10: RMSE=0.52\n",
      "r=100: RMSE=0.52\n",
      "\n",
      "Best r: 0\n"
     ]
    }
   ],
   "source": [
    "X_train_reg = df_train[base].fillna(0).values\n",
    "X_val_reg = df_val[base].fillna(0).values\n",
    "\n",
    "# Probar diferentes valores de r\n",
    "r_values = [0, 0.01, 0.1, 1, 5, 10, 100]\n",
    "results = {}\n",
    "\n",
    "for r in r_values:\n",
    "    w0, w = train_linear_regression_reg(X_train_reg, y_train, r=r)\n",
    "    y_pred = w0 + X_val_reg.dot(w)\n",
    "    score = rmse(y_val, y_pred)\n",
    "    results[r] = round(score, 2)\n",
    "    print(f\"r={r}: RMSE={round(score, 2)}\")\n",
    "\n",
    "best_r = min(results, key=results.get)\n",
    "print(f\"\\nBest r: {best_r}\")"
   ]
  },
  {
   "cell_type": "markdown",
   "id": "3414565d",
   "metadata": {},
   "source": [
    "## Question 5"
   ]
  },
  {
   "cell_type": "code",
   "execution_count": 19,
   "id": "e52f4a95",
   "metadata": {},
   "outputs": [
    {
     "name": "stdout",
     "output_type": "stream",
     "text": [
      "Seed 0: RMSE=0.5206531296286018\n",
      "Seed 1: RMSE=0.5213388912861504\n",
      "Seed 2: RMSE=0.5228069974692388\n",
      "Seed 3: RMSE=0.5159516741085217\n",
      "Seed 4: RMSE=0.5109129460088697\n",
      "Seed 5: RMSE=0.5283406460156541\n",
      "Seed 6: RMSE=0.531391065815884\n",
      "Seed 7: RMSE=0.509067038737912\n",
      "Seed 8: RMSE=0.5147399129397889\n",
      "Seed 9: RMSE=0.5131865908276104\n",
      "\n",
      "Standard deviation: 0.006989446427001858 (≈ 0.007)\n"
     ]
    }
   ],
   "source": [
    "seeds = [0, 1, 2, 3, 4, 5, 6, 7, 8, 9] \n",
    "rmse_scores = []\n",
    "\n",
    "for seed in seeds:\n",
    "    np.random.seed(seed)\n",
    "    idx = np.arange(n)\n",
    "    np.random.shuffle(idx)\n",
    "    df_shuffled = df.iloc[idx].reset_index(drop=True)\n",
    "\n",
    "    df_train_s = df_shuffled.iloc[:n_train].reset_index(drop=True)\n",
    "    df_val_s = df_shuffled.iloc[n_train:n_train + n_val].reset_index(drop=True)\n",
    "\n",
    "    y_train_s = df_train_s['fuel_efficiency_mpg'].values\n",
    "    y_val_s = df_val_s['fuel_efficiency_mpg'].values\n",
    "\n",
    "    X_train_s = df_train_s.drop('fuel_efficiency_mpg', axis=1).fillna(0).values\n",
    "    X_val_s = df_val_s.drop('fuel_efficiency_mpg', axis=1).fillna(0).values\n",
    "\n",
    "    w0, w = train_linear_regression(X_train_s, y_train_s)\n",
    "    y_pred = w0 + X_val_s.dot(w)\n",
    "\n",
    "    score = rmse(y_val_s, y_pred)\n",
    "    rmse_scores.append(score)\n",
    "\n",
    "    print(f\"Seed {seed}: RMSE={score}\")\n",
    "\n",
    "std = np.std(rmse_scores)\n",
    "print(f\"\\nStandard deviation: {std} (≈ {round(std, 3)})\")"
   ]
  },
  {
   "cell_type": "markdown",
   "id": "be256dcf",
   "metadata": {},
   "source": [
    "## Question 6"
   ]
  },
  {
   "cell_type": "code",
   "execution_count": 20,
   "id": "aef3e2e8",
   "metadata": {},
   "outputs": [
    {
     "name": "stdout",
     "output_type": "stream",
     "text": [
      "RMSE on test set: 0.5156261299185212\n"
     ]
    }
   ],
   "source": [
    "np.random.seed(9)\n",
    "idx = np.arange(n)\n",
    "np.random.shuffle(idx)\n",
    "df_shuffled = df.iloc[idx].reset_index(drop=True)\n",
    "\n",
    "df_train_final = df_shuffled.iloc[:n_train].reset_index(drop=True)\n",
    "df_val_final = df_shuffled.iloc[n_train:n_train + n_val].reset_index(drop=True)\n",
    "df_test_final = df_shuffled.iloc[n_train + n_val:].reset_index(drop=True)\n",
    "\n",
    "df_full_train = pd.concat([df_train_final, df_val_final]).reset_index(drop=True)\n",
    "\n",
    "y_full_train = df_full_train['fuel_efficiency_mpg'].values\n",
    "y_test_final = df_test_final['fuel_efficiency_mpg'].values\n",
    "\n",
    "X_full_train = df_full_train.drop('fuel_efficiency_mpg', axis=1).fillna(0).values\n",
    "X_test_final = df_test_final.drop('fuel_efficiency_mpg', axis=1).fillna(0).values\n",
    "\n",
    "w0, w = train_linear_regression_reg(X_full_train, y_full_train, r=0.001)\n",
    "y_pred_test = w0 + X_test_final.dot(w)\n",
    "\n",
    "rmse_test = rmse(y_test_final, y_pred_test)\n",
    "print(f\"RMSE on test set: {rmse_test}\")"
   ]
  }
 ],
 "metadata": {
  "kernelspec": {
   "display_name": "mlcamp",
   "language": "python",
   "name": "python3"
  },
  "language_info": {
   "codemirror_mode": {
    "name": "ipython",
    "version": 3
   },
   "file_extension": ".py",
   "mimetype": "text/x-python",
   "name": "python",
   "nbconvert_exporter": "python",
   "pygments_lexer": "ipython3",
   "version": "3.11.13"
  }
 },
 "nbformat": 4,
 "nbformat_minor": 5
}

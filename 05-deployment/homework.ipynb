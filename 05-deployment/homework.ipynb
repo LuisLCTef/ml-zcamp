{
 "cells": [
  {
   "cell_type": "code",
   "execution_count": 1,
   "id": "31774363",
   "metadata": {},
   "outputs": [],
   "source": [
    "import re\n",
    "import time\n",
    "import pickle\n",
    "import requests\n",
    "import subprocess"
   ]
  },
  {
   "cell_type": "code",
   "execution_count": 2,
   "id": "ba66fad2",
   "metadata": {},
   "outputs": [
    {
     "name": "stdout",
     "output_type": "stream",
     "text": [
      "uv 0.9.5\n"
     ]
    }
   ],
   "source": [
    "# Question 1\n",
    "\n",
    "!uv --version"
   ]
  },
  {
   "cell_type": "code",
   "execution_count": 3,
   "id": "035de715",
   "metadata": {},
   "outputs": [
    {
     "name": "stdout",
     "output_type": "stream",
     "text": [
      "sha256:b4fc2525eca2c69a59260f583c56a7557c6ccdf8deafdba6e060f94c1c59738e\n"
     ]
    }
   ],
   "source": [
    "# Question 2\n",
    "\n",
    "with open(\"uv.lock\") as f:\n",
    "    content = f.read()\n",
    "\n",
    "package_block = re.search(\n",
    "    r'\\[\\[package\\]\\]\\s+name\\s*=\\s*\"scikit-learn\"([\\s\\S]*?)(?=\\[\\[package\\]\\]|$)',\n",
    "    content\n",
    ")\n",
    "\n",
    "if package_block:\n",
    "    hash_match = re.search(r'sha256:[a-f0-9]+', package_block.group(1))\n",
    "    if hash_match:\n",
    "        print(hash_match.group(0))\n",
    "    else:\n",
    "        print(\"No hash found in scikit-learn block\")\n",
    "else:\n",
    "    print(\"scikit-learn not found in uv.lock\")"
   ]
  },
  {
   "cell_type": "code",
   "execution_count": 4,
   "id": "622bc805",
   "metadata": {},
   "outputs": [
    {
     "name": "stderr",
     "output_type": "stream",
     "text": [
      "c:\\Users\\Luis\\miniconda3\\envs\\mlcamp\\Lib\\site-packages\\sklearn\\base.py:442: InconsistentVersionWarning: Trying to unpickle estimator DictVectorizer from version 1.6.1 when using version 1.7.2. This might lead to breaking code or invalid results. Use at your own risk. For more info please refer to:\n",
      "https://scikit-learn.org/stable/model_persistence.html#security-maintainability-limitations\n",
      "  warnings.warn(\n",
      "c:\\Users\\Luis\\miniconda3\\envs\\mlcamp\\Lib\\site-packages\\sklearn\\base.py:442: InconsistentVersionWarning: Trying to unpickle estimator LogisticRegression from version 1.6.1 when using version 1.7.2. This might lead to breaking code or invalid results. Use at your own risk. For more info please refer to:\n",
      "https://scikit-learn.org/stable/model_persistence.html#security-maintainability-limitations\n",
      "  warnings.warn(\n",
      "c:\\Users\\Luis\\miniconda3\\envs\\mlcamp\\Lib\\site-packages\\sklearn\\base.py:442: InconsistentVersionWarning: Trying to unpickle estimator Pipeline from version 1.6.1 when using version 1.7.2. This might lead to breaking code or invalid results. Use at your own risk. For more info please refer to:\n",
      "https://scikit-learn.org/stable/model_persistence.html#security-maintainability-limitations\n",
      "  warnings.warn(\n"
     ]
    }
   ],
   "source": [
    "# Model Load\n",
    "\n",
    "url = \"https://github.com/DataTalksClub/machine-learning-zoomcamp/raw/refs/heads/master/cohorts/2025/05-deployment/pipeline_v1.bin\"\n",
    "\n",
    "response = requests.get(url)\n",
    "response.raise_for_status()  # ensure it downloaded OK\n",
    "\n",
    "dv, model = pickle.loads(response.content)"
   ]
  },
  {
   "cell_type": "code",
   "execution_count": 5,
   "id": "ce7bb810",
   "metadata": {},
   "outputs": [
    {
     "data": {
      "text/plain": [
       "np.float64(0.5336072702798061)"
      ]
     },
     "execution_count": 5,
     "metadata": {},
     "output_type": "execute_result"
    }
   ],
   "source": [
    "# Question 3\n",
    "\n",
    "record = {\n",
    "    \"lead_source\": \"paid_ads\",\n",
    "    \"number_of_courses_viewed\": 2,\n",
    "    \"annual_income\": 79276.0\n",
    "}\n",
    "\n",
    "X = dv.transform(record)\n",
    "\n",
    "model.predict_proba(X)[0, 1]"
   ]
  },
  {
   "cell_type": "code",
   "execution_count": 6,
   "id": "8d6e6267",
   "metadata": {},
   "outputs": [
    {
     "name": "stdout",
     "output_type": "stream",
     "text": [
      "{'churn_probability': 0.5340417283801275, 'churn': True}\n"
     ]
    }
   ],
   "source": [
    "# Question 4\n",
    "\n",
    "process = subprocess.Popen(\n",
    "    [\"python\", \"-m\", \"uvicorn\", \"app:app\", \"--host\", \"0.0.0.0\", \"--port\", \"9696\"],\n",
    "    stdout=subprocess.PIPE,\n",
    "    stderr=subprocess.PIPE,\n",
    ")\n",
    "time.sleep(3)\n",
    "\n",
    "url = \"http://127.0.0.1:9696/predict\"\n",
    "\n",
    "client = {\n",
    "    \"lead_source\": \"organic_search\",\n",
    "    \"number_of_courses_viewed\": 4,\n",
    "    \"annual_income\": 80304.0\n",
    "}\n",
    "\n",
    "response = requests.post(url, json=client)\n",
    "predictions = response.json()\n",
    "\n",
    "print(predictions)"
   ]
  },
  {
   "cell_type": "code",
   "execution_count": 7,
   "id": "98deb9ad",
   "metadata": {},
   "outputs": [
    {
     "name": "stdout",
     "output_type": "stream",
     "text": [
      "2025: Pulling from agrigorev/zoomcamp-model\n",
      "Digest: sha256:14d79fde0bbf078eb18c99c2bd007205917b758ec11060b2994963a1e485c2ae\n",
      "Status: Image is up to date for agrigorev/zoomcamp-model:2025\n",
      "docker.io/agrigorev/zoomcamp-model:2025\n",
      "REPOSITORY                 TAG       IMAGE ID       CREATED      SIZE\n",
      "agrigorev/zoomcamp-model   2025      14d79fde0bbf   6 days ago   181MB\n"
     ]
    }
   ],
   "source": [
    "# Question 5\n",
    "\n",
    "!docker pull agrigorev/zoomcamp-model:2025\n",
    "!docker images agrigorev/zoomcamp-model:2025"
   ]
  },
  {
   "cell_type": "code",
   "execution_count": 8,
   "id": "11fdd0a4",
   "metadata": {},
   "outputs": [
    {
     "name": "stderr",
     "output_type": "stream",
     "text": [
      "#0 building with \"desktop-linux\" instance using docker driver\n",
      "\n",
      "#1 [internal] load build definition from Dockerfile\n",
      "#1 transferring dockerfile: 397B done\n",
      "#1 DONE 0.0s\n",
      "\n",
      "#2 [internal] load metadata for docker.io/agrigorev/zoomcamp-model:2025\n",
      "#2 DONE 0.0s\n",
      "\n",
      "#3 [internal] load .dockerignore\n",
      "#3 transferring context: 2B done\n",
      "#3 DONE 0.0s\n",
      "\n",
      "#4 [internal] load build context\n",
      "#4 transferring context: 63B done\n",
      "#4 DONE 0.0s\n",
      "\n",
      "#5 [1/5] FROM docker.io/agrigorev/zoomcamp-model:2025@sha256:14d79fde0bbf078eb18c99c2bd007205917b758ec11060b2994963a1e485c2ae\n",
      "#5 resolve docker.io/agrigorev/zoomcamp-model:2025@sha256:14d79fde0bbf078eb18c99c2bd007205917b758ec11060b2994963a1e485c2ae 0.0s done\n",
      "#5 DONE 0.0s\n",
      "\n",
      "#6 [2/5] WORKDIR /app\n",
      "#6 CACHED\n",
      "\n",
      "#7 [3/5] RUN pip install --upgrade pip     && pip install fastapi==0.120.1 scikit-learn==1.6.1 uvicorn==0.38.0\n",
      "#7 CACHED\n",
      "\n",
      "#8 [4/5] COPY pipeline_v1.bin /app/pipeline_v1.bin\n",
      "#8 CACHED\n",
      "\n",
      "#9 [5/5] COPY app.py /app/app.py\n",
      "#9 CACHED\n",
      "\n",
      "#10 exporting to image\n",
      "#10 exporting layers 0.0s done\n",
      "#10 exporting manifest sha256:36cd1c703cb1c3691c13425175909d996e3262a76d248350e0bf7fc4c14471ef done\n",
      "#10 exporting config sha256:088cf0d4f38f7435288a6cfdbcff375eb60ac4314d167b3a32349f2de7628543 done\n",
      "#10 exporting attestation manifest sha256:ca6575361a96efc0aac3f34fcde80d584a15274d8b148a107d7ea7419ad5aa65 0.0s done\n",
      "#10 exporting manifest list sha256:f57a37bc29c4f1b446d0dd348126b40c0f39d1f17a5632565d0acde4a2d215f2 0.0s done\n",
      "#10 naming to docker.io/library/customer-scoring-service:latest done\n",
      "#10 unpacking to docker.io/library/customer-scoring-service:latest 0.0s done\n",
      "#10 DONE 0.1s\n"
     ]
    },
    {
     "name": "stdout",
     "output_type": "stream",
     "text": [
      "5ff9351e6b8958ce7bc4fa80c700823119cceb3d7ddb81c996fd37c1e9d569e4\n"
     ]
    }
   ],
   "source": [
    "# Building the Docker image and starting the container\n",
    "\n",
    "!docker build -t customer-scoring-service:latest .\n",
    "!docker run -d -p 9696:9696 customer-scoring-service:latest"
   ]
  },
  {
   "cell_type": "code",
   "execution_count": 9,
   "id": "cfa7260d",
   "metadata": {},
   "outputs": [
    {
     "name": "stdout",
     "output_type": "stream",
     "text": [
      "{'churn_probability': 0.5340417283801275, 'churn': True}\n"
     ]
    }
   ],
   "source": [
    "# Question 6\n",
    "\n",
    "\n",
    "url = url = \"http://127.0.0.1:9696/predict\"\n",
    "\n",
    "client = {\n",
    "    \"lead_source\": \"organic_search\",\n",
    "    \"number_of_courses_viewed\": 4,\n",
    "    \"annual_income\": 80304.0\n",
    "}\n",
    "\n",
    "response = requests.post(url, json=client)\n",
    "print(response.json())"
   ]
  },
  {
   "cell_type": "code",
   "execution_count": 10,
   "id": "6f431821",
   "metadata": {},
   "outputs": [
    {
     "name": "stdout",
     "output_type": "stream",
     "text": [
      "\n",
      "(mlcamp) c:\\Users\\Luis\\Desktop\\workspace\\ml-zcamp\\05-deployment>docker stop 5ff9351e6b89 \n",
      "5ff9351e6b89\n"
     ]
    }
   ],
   "source": [
    "!for /f %i in ('docker ps -q') do docker stop %i"
   ]
  }
 ],
 "metadata": {
  "kernelspec": {
   "display_name": "mlcamp",
   "language": "python",
   "name": "python3"
  },
  "language_info": {
   "codemirror_mode": {
    "name": "ipython",
    "version": 3
   },
   "file_extension": ".py",
   "mimetype": "text/x-python",
   "name": "python",
   "nbconvert_exporter": "python",
   "pygments_lexer": "ipython3",
   "version": "3.11.13"
  }
 },
 "nbformat": 4,
 "nbformat_minor": 5
}

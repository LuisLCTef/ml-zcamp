{
 "cells": [
  {
   "cell_type": "code",
   "execution_count": null,
   "id": "31774363",
   "metadata": {},
   "outputs": [],
   "source": [
    "import re\n",
    "import time\n",
    "import pickle\n",
    "import requests\n",
    "import subprocess"
   ]
  },
  {
   "cell_type": "code",
   "execution_count": null,
   "id": "ba66fad2",
   "metadata": {},
   "outputs": [],
   "source": [
    "# Question 1\n",
    "\n",
    "!uv --version"
   ]
  },
  {
   "cell_type": "code",
   "execution_count": null,
   "id": "035de715",
   "metadata": {},
   "outputs": [],
   "source": [
    "# Question 2\n",
    "\n",
    "with open(\"uv.lock\") as f:\n",
    "    content = f.read()\n",
    "\n",
    "package_block = re.search(\n",
    "    r'\\[\\[package\\]\\]\\s+name\\s*=\\s*\"scikit-learn\"([\\s\\S]*?)(?=\\[\\[package\\]\\]|$)',\n",
    "    content\n",
    ")\n",
    "\n",
    "if package_block:\n",
    "    hash_match = re.search(r'sha256:[a-f0-9]+', package_block.group(1))\n",
    "    if hash_match:\n",
    "        print(hash_match.group(0))\n",
    "    else:\n",
    "        print(\"No hash found in scikit-learn block\")\n",
    "else:\n",
    "    print(\"scikit-learn not found in uv.lock\")"
   ]
  },
  {
   "cell_type": "code",
   "execution_count": null,
   "id": "622bc805",
   "metadata": {},
   "outputs": [],
   "source": [
    "# Model Load\n",
    "\n",
    "url = \"https://github.com/DataTalksClub/machine-learning-zoomcamp/raw/refs/heads/master/cohorts/2025/05-deployment/pipeline_v1.bin\"\n",
    "\n",
    "response = requests.get(url)\n",
    "response.raise_for_status()  # ensure it downloaded OK\n",
    "\n",
    "dv, model = pickle.loads(response.content)"
   ]
  },
  {
   "cell_type": "code",
   "execution_count": null,
   "id": "ce7bb810",
   "metadata": {},
   "outputs": [],
   "source": [
    "# Question 3\n",
    "\n",
    "record = {\n",
    "    \"lead_source\": \"paid_ads\",\n",
    "    \"number_of_courses_viewed\": 2,\n",
    "    \"annual_income\": 79276.0\n",
    "}\n",
    "\n",
    "X = dv.transform(record)\n",
    "\n",
    "model.predict_proba(X)[0, 1]"
   ]
  },
  {
   "cell_type": "code",
   "execution_count": null,
   "id": "8d6e6267",
   "metadata": {},
   "outputs": [],
   "source": [
    "# Question 4\n",
    "\n",
    "process = subprocess.Popen(\n",
    "    [\"python\", \"-m\", \"uvicorn\", \"app:app\", \"--host\", \"0.0.0.0\", \"--port\", \"9696\"],\n",
    "    stdout=subprocess.PIPE,\n",
    "    stderr=subprocess.PIPE,\n",
    ")\n",
    "time.sleep(3)\n",
    "\n",
    "url = \"http://127.0.0.1:9696/predict\"\n",
    "\n",
    "client = {\n",
    "    \"lead_source\": \"organic_search\",\n",
    "    \"number_of_courses_viewed\": 4,\n",
    "    \"annual_income\": 80304.0\n",
    "}\n",
    "\n",
    "response = requests.post(url, json=client)\n",
    "predictions = response.json()\n",
    "\n",
    "print(predictions)"
   ]
  },
  {
   "cell_type": "code",
   "execution_count": null,
   "id": "98deb9ad",
   "metadata": {},
   "outputs": [],
   "source": [
    "# Question 5\n",
    "\n",
    "!docker pull agrigorev/zoomcamp-model:2025\n",
    "!docker images agrigorev/zoomcamp-model:2025"
   ]
  },
  {
   "cell_type": "code",
   "execution_count": null,
   "id": "11fdd0a4",
   "metadata": {},
   "outputs": [],
   "source": [
    "# Building the Docker image and starting the container\n",
    "\n",
    "!docker build -t customer-scoring-service:latest .\n",
    "!docker run -d -p 9696:9696 customer-scoring-service:latest"
   ]
  },
  {
   "cell_type": "code",
   "execution_count": null,
   "id": "cfa7260d",
   "metadata": {},
   "outputs": [],
   "source": [
    "# Question 6\n",
    "\n",
    "\n",
    "url = url = \"http://127.0.0.1:9696/predict\"\n",
    "\n",
    "client = {\n",
    "    \"lead_source\": \"organic_search\",\n",
    "    \"number_of_courses_viewed\": 4,\n",
    "    \"annual_income\": 80304.0\n",
    "}\n",
    "\n",
    "response = requests.post(url, json=client)\n",
    "print(response.json())"
   ]
  },
  {
   "cell_type": "code",
   "execution_count": null,
   "id": "6f431821",
   "metadata": {},
   "outputs": [],
   "source": [
    "!for /f %i in ('docker ps -q') do docker stop %i"
   ]
  }
 ],
 "metadata": {
  "kernelspec": {
   "display_name": "mlcamp",
   "language": "python",
   "name": "python3"
  },
  "language_info": {
   "codemirror_mode": {
    "name": "ipython",
    "version": 3
   },
   "file_extension": ".py",
   "mimetype": "text/x-python",
   "name": "python",
   "nbconvert_exporter": "python",
   "pygments_lexer": "ipython3",
   "version": "3.11.13"
  }
 },
 "nbformat": 4,
 "nbformat_minor": 5
}
